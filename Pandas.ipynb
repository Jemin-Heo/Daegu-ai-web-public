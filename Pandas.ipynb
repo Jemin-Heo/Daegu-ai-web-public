{
 "cells": [
  {
   "cell_type": "markdown",
   "id": "049aad87",
   "metadata": {},
   "source": [
    "# Pandas\n",
    "\n",
    "\n",
    "\n",
    "### 자료구조: Seires와 DataFrame\n",
    "Pandas에서 제공하는 데이터 자료구조는 Series와 Dataframe 두가지가 존재하는데 Series는 시계열과 유사한 데이터로서 index와 value가 존재하고 Dataframe은 딕셔너리데이터를 매트릭스 형태로 만들어 준 것 같은 frame을 가지고 있다. 이런 데이터 구조를 통해 시계열, 비시계열 데이터를 통합하여 다룰 수 있다.\n",
    "\n",
    "\n",
    "\n",
    "### Series"
   ]
  },
  {
   "cell_type": "code",
   "execution_count": 1,
   "id": "ec05f6fe",
   "metadata": {},
   "outputs": [],
   "source": [
    "import pandas as pd\n",
    "from pandas import Series, DataFrame"
   ]
  },
  {
   "cell_type": "code",
   "execution_count": 2,
   "id": "42966452",
   "metadata": {},
   "outputs": [],
   "source": [
    "fruit = Series([2500,3800,1200,6000],\n",
    "               index=['apple','banana','pear','cherry'])"
   ]
  },
  {
   "cell_type": "code",
   "execution_count": 3,
   "id": "0023d271",
   "metadata": {},
   "outputs": [
    {
     "data": {
      "text/plain": [
       "apple     2500\n",
       "banana    3800\n",
       "pear      1200\n",
       "cherry    6000\n",
       "dtype: int64"
      ]
     },
     "execution_count": 3,
     "metadata": {},
     "output_type": "execute_result"
    }
   ],
   "source": [
    "fruit"
   ]
  },
  {
   "cell_type": "code",
   "execution_count": 4,
   "id": "d873860d",
   "metadata": {},
   "outputs": [
    {
     "name": "stdout",
     "output_type": "stream",
     "text": [
      "[2500 3800 1200 6000]\n"
     ]
    }
   ],
   "source": [
    "print(fruit.values)"
   ]
  },
  {
   "cell_type": "code",
   "execution_count": 5,
   "id": "05a9477b",
   "metadata": {},
   "outputs": [
    {
     "name": "stdout",
     "output_type": "stream",
     "text": [
      "Index(['apple', 'banana', 'pear', 'cherry'], dtype='object')\n"
     ]
    }
   ],
   "source": [
    "print(fruit.index)"
   ]
  },
  {
   "cell_type": "code",
   "execution_count": 6,
   "id": "dcc19330",
   "metadata": {},
   "outputs": [],
   "source": [
    "fruitData = {'apple':2500,'banana':3800,'pear':1200,'cherry':6000}\n",
    "fruit = Series(fruitData)"
   ]
  },
  {
   "cell_type": "code",
   "execution_count": 7,
   "id": "99426e79",
   "metadata": {},
   "outputs": [
    {
     "name": "stdout",
     "output_type": "stream",
     "text": [
      "<class 'dict'>\n",
      "<class 'pandas.core.series.Series'>\n"
     ]
    }
   ],
   "source": [
    "print(type(fruitData))\n",
    "print(type(fruit))\n",
    "#jupyternotebook 은 마지막 값만 출력을 해주기때문에 print 문을 써야한다."
   ]
  },
  {
   "cell_type": "code",
   "execution_count": 8,
   "id": "8c3ae437",
   "metadata": {},
   "outputs": [
    {
     "data": {
      "text/plain": [
       "apple     2500\n",
       "banana    3800\n",
       "pear      1200\n",
       "cherry    6000\n",
       "dtype: int64"
      ]
     },
     "execution_count": 8,
     "metadata": {},
     "output_type": "execute_result"
    }
   ],
   "source": [
    "fruit"
   ]
  },
  {
   "cell_type": "code",
   "execution_count": 9,
   "id": "454683e0",
   "metadata": {},
   "outputs": [],
   "source": [
    "fruit.name ='fruitPrice'\n",
    "fruit.index.name = 'fruitName'"
   ]
  },
  {
   "cell_type": "code",
   "execution_count": 10,
   "id": "607fdb83",
   "metadata": {},
   "outputs": [
    {
     "data": {
      "text/plain": [
       "fruitName\n",
       "apple     2500\n",
       "banana    3800\n",
       "pear      1200\n",
       "cherry    6000\n",
       "Name: fruitPrice, dtype: int64"
      ]
     },
     "execution_count": 10,
     "metadata": {},
     "output_type": "execute_result"
    }
   ],
   "source": [
    "fruit"
   ]
  },
  {
   "cell_type": "code",
   "execution_count": 11,
   "id": "45151d79",
   "metadata": {},
   "outputs": [],
   "source": [
    "fruitData = {'fruitName':['apple','banana','cherry','pear'],\n",
    "            'fruitPrice':[2500,3800,6000,1200],\n",
    "             'num':[10,5,3,8]\n",
    "            }"
   ]
  },
  {
   "cell_type": "code",
   "execution_count": 12,
   "id": "da6447bd",
   "metadata": {},
   "outputs": [],
   "source": [
    "fruitFrame = DataFrame(fruitData)"
   ]
  },
  {
   "cell_type": "code",
   "execution_count": 13,
   "id": "f8a64ae9",
   "metadata": {},
   "outputs": [
    {
     "data": {
      "text/html": [
       "<div>\n",
       "<style scoped>\n",
       "    .dataframe tbody tr th:only-of-type {\n",
       "        vertical-align: middle;\n",
       "    }\n",
       "\n",
       "    .dataframe tbody tr th {\n",
       "        vertical-align: top;\n",
       "    }\n",
       "\n",
       "    .dataframe thead th {\n",
       "        text-align: right;\n",
       "    }\n",
       "</style>\n",
       "<table border=\"1\" class=\"dataframe\">\n",
       "  <thead>\n",
       "    <tr style=\"text-align: right;\">\n",
       "      <th></th>\n",
       "      <th>fruitName</th>\n",
       "      <th>fruitPrice</th>\n",
       "      <th>num</th>\n",
       "    </tr>\n",
       "  </thead>\n",
       "  <tbody>\n",
       "    <tr>\n",
       "      <th>0</th>\n",
       "      <td>apple</td>\n",
       "      <td>2500</td>\n",
       "      <td>10</td>\n",
       "    </tr>\n",
       "    <tr>\n",
       "      <th>1</th>\n",
       "      <td>banana</td>\n",
       "      <td>3800</td>\n",
       "      <td>5</td>\n",
       "    </tr>\n",
       "    <tr>\n",
       "      <th>2</th>\n",
       "      <td>cherry</td>\n",
       "      <td>6000</td>\n",
       "      <td>3</td>\n",
       "    </tr>\n",
       "    <tr>\n",
       "      <th>3</th>\n",
       "      <td>pear</td>\n",
       "      <td>1200</td>\n",
       "      <td>8</td>\n",
       "    </tr>\n",
       "  </tbody>\n",
       "</table>\n",
       "</div>"
      ],
      "text/plain": [
       "  fruitName  fruitPrice  num\n",
       "0     apple        2500   10\n",
       "1    banana        3800    5\n",
       "2    cherry        6000    3\n",
       "3      pear        1200    8"
      ]
     },
     "execution_count": 13,
     "metadata": {},
     "output_type": "execute_result"
    }
   ],
   "source": [
    "fruitFrame"
   ]
  },
  {
   "cell_type": "code",
   "execution_count": 14,
   "id": "80951212",
   "metadata": {},
   "outputs": [],
   "source": [
    "fruitFrame = DataFrame(fruitData, columns = ['fruitPrice','num','fruitName'])\n",
    "#이렇게 나오는 순서를 바꿀수도 있다."
   ]
  },
  {
   "cell_type": "code",
   "execution_count": 15,
   "id": "42dc1b99",
   "metadata": {},
   "outputs": [
    {
     "data": {
      "text/html": [
       "<div>\n",
       "<style scoped>\n",
       "    .dataframe tbody tr th:only-of-type {\n",
       "        vertical-align: middle;\n",
       "    }\n",
       "\n",
       "    .dataframe tbody tr th {\n",
       "        vertical-align: top;\n",
       "    }\n",
       "\n",
       "    .dataframe thead th {\n",
       "        text-align: right;\n",
       "    }\n",
       "</style>\n",
       "<table border=\"1\" class=\"dataframe\">\n",
       "  <thead>\n",
       "    <tr style=\"text-align: right;\">\n",
       "      <th></th>\n",
       "      <th>fruitPrice</th>\n",
       "      <th>num</th>\n",
       "      <th>fruitName</th>\n",
       "    </tr>\n",
       "  </thead>\n",
       "  <tbody>\n",
       "    <tr>\n",
       "      <th>0</th>\n",
       "      <td>2500</td>\n",
       "      <td>10</td>\n",
       "      <td>apple</td>\n",
       "    </tr>\n",
       "    <tr>\n",
       "      <th>1</th>\n",
       "      <td>3800</td>\n",
       "      <td>5</td>\n",
       "      <td>banana</td>\n",
       "    </tr>\n",
       "    <tr>\n",
       "      <th>2</th>\n",
       "      <td>6000</td>\n",
       "      <td>3</td>\n",
       "      <td>cherry</td>\n",
       "    </tr>\n",
       "    <tr>\n",
       "      <th>3</th>\n",
       "      <td>1200</td>\n",
       "      <td>8</td>\n",
       "      <td>pear</td>\n",
       "    </tr>\n",
       "  </tbody>\n",
       "</table>\n",
       "</div>"
      ],
      "text/plain": [
       "   fruitPrice  num fruitName\n",
       "0        2500   10     apple\n",
       "1        3800    5    banana\n",
       "2        6000    3    cherry\n",
       "3        1200    8      pear"
      ]
     },
     "execution_count": 15,
     "metadata": {},
     "output_type": "execute_result"
    }
   ],
   "source": [
    "fruitFrame"
   ]
  },
  {
   "cell_type": "code",
   "execution_count": 16,
   "id": "7ed7163d",
   "metadata": {},
   "outputs": [
    {
     "data": {
      "text/plain": [
       "0     apple\n",
       "1    banana\n",
       "2    cherry\n",
       "3      pear\n",
       "Name: fruitName, dtype: object"
      ]
     },
     "execution_count": 16,
     "metadata": {},
     "output_type": "execute_result"
    }
   ],
   "source": [
    "fruitFrame['fruitName']"
   ]
  },
  {
   "cell_type": "code",
   "execution_count": 17,
   "id": "45e3fad4",
   "metadata": {},
   "outputs": [
    {
     "data": {
      "text/plain": [
       "0     apple\n",
       "1    banana\n",
       "2    cherry\n",
       "3      pear\n",
       "Name: fruitName, dtype: object"
      ]
     },
     "execution_count": 17,
     "metadata": {},
     "output_type": "execute_result"
    }
   ],
   "source": [
    "fruitFrame.fruitName\n",
    "#위와 결과가 똑같다."
   ]
  },
  {
   "cell_type": "code",
   "execution_count": 18,
   "id": "3f9779a1",
   "metadata": {},
   "outputs": [],
   "source": [
    "fruitFrame['Year']='2022' \n",
    "#이 방식으로 줄이 추가가 된다."
   ]
  },
  {
   "cell_type": "code",
   "execution_count": 19,
   "id": "6697df91",
   "metadata": {},
   "outputs": [
    {
     "data": {
      "text/html": [
       "<div>\n",
       "<style scoped>\n",
       "    .dataframe tbody tr th:only-of-type {\n",
       "        vertical-align: middle;\n",
       "    }\n",
       "\n",
       "    .dataframe tbody tr th {\n",
       "        vertical-align: top;\n",
       "    }\n",
       "\n",
       "    .dataframe thead th {\n",
       "        text-align: right;\n",
       "    }\n",
       "</style>\n",
       "<table border=\"1\" class=\"dataframe\">\n",
       "  <thead>\n",
       "    <tr style=\"text-align: right;\">\n",
       "      <th></th>\n",
       "      <th>fruitPrice</th>\n",
       "      <th>num</th>\n",
       "      <th>fruitName</th>\n",
       "      <th>Year</th>\n",
       "    </tr>\n",
       "  </thead>\n",
       "  <tbody>\n",
       "    <tr>\n",
       "      <th>0</th>\n",
       "      <td>2500</td>\n",
       "      <td>10</td>\n",
       "      <td>apple</td>\n",
       "      <td>2022</td>\n",
       "    </tr>\n",
       "    <tr>\n",
       "      <th>1</th>\n",
       "      <td>3800</td>\n",
       "      <td>5</td>\n",
       "      <td>banana</td>\n",
       "      <td>2022</td>\n",
       "    </tr>\n",
       "    <tr>\n",
       "      <th>2</th>\n",
       "      <td>6000</td>\n",
       "      <td>3</td>\n",
       "      <td>cherry</td>\n",
       "      <td>2022</td>\n",
       "    </tr>\n",
       "    <tr>\n",
       "      <th>3</th>\n",
       "      <td>1200</td>\n",
       "      <td>8</td>\n",
       "      <td>pear</td>\n",
       "      <td>2022</td>\n",
       "    </tr>\n",
       "  </tbody>\n",
       "</table>\n",
       "</div>"
      ],
      "text/plain": [
       "   fruitPrice  num fruitName  Year\n",
       "0        2500   10     apple  2022\n",
       "1        3800    5    banana  2022\n",
       "2        6000    3    cherry  2022\n",
       "3        1200    8      pear  2022"
      ]
     },
     "execution_count": 19,
     "metadata": {},
     "output_type": "execute_result"
    }
   ],
   "source": [
    "fruitFrame"
   ]
  },
  {
   "cell_type": "code",
   "execution_count": 20,
   "id": "87bc54cf",
   "metadata": {},
   "outputs": [
    {
     "name": "stdout",
     "output_type": "stream",
     "text": [
      "0    4\n",
      "2    2\n",
      "3    1\n",
      "dtype: int64\n"
     ]
    }
   ],
   "source": [
    "variable = Series([4,2,1],index=[0,2,3])\n",
    "print(variable)\n",
    "#이 코드로 만들어진게 알맞은 index에 정보가 추가가 된다."
   ]
  },
  {
   "cell_type": "code",
   "execution_count": 21,
   "id": "76a3d8f5",
   "metadata": {},
   "outputs": [],
   "source": [
    "fruitFrame['stock'] = variable"
   ]
  },
  {
   "cell_type": "code",
   "execution_count": 22,
   "id": "e08a8226",
   "metadata": {},
   "outputs": [
    {
     "data": {
      "text/html": [
       "<div>\n",
       "<style scoped>\n",
       "    .dataframe tbody tr th:only-of-type {\n",
       "        vertical-align: middle;\n",
       "    }\n",
       "\n",
       "    .dataframe tbody tr th {\n",
       "        vertical-align: top;\n",
       "    }\n",
       "\n",
       "    .dataframe thead th {\n",
       "        text-align: right;\n",
       "    }\n",
       "</style>\n",
       "<table border=\"1\" class=\"dataframe\">\n",
       "  <thead>\n",
       "    <tr style=\"text-align: right;\">\n",
       "      <th></th>\n",
       "      <th>fruitPrice</th>\n",
       "      <th>num</th>\n",
       "      <th>fruitName</th>\n",
       "      <th>Year</th>\n",
       "      <th>stock</th>\n",
       "    </tr>\n",
       "  </thead>\n",
       "  <tbody>\n",
       "    <tr>\n",
       "      <th>0</th>\n",
       "      <td>2500</td>\n",
       "      <td>10</td>\n",
       "      <td>apple</td>\n",
       "      <td>2022</td>\n",
       "      <td>4.0</td>\n",
       "    </tr>\n",
       "    <tr>\n",
       "      <th>1</th>\n",
       "      <td>3800</td>\n",
       "      <td>5</td>\n",
       "      <td>banana</td>\n",
       "      <td>2022</td>\n",
       "      <td>NaN</td>\n",
       "    </tr>\n",
       "    <tr>\n",
       "      <th>2</th>\n",
       "      <td>6000</td>\n",
       "      <td>3</td>\n",
       "      <td>cherry</td>\n",
       "      <td>2022</td>\n",
       "      <td>2.0</td>\n",
       "    </tr>\n",
       "    <tr>\n",
       "      <th>3</th>\n",
       "      <td>1200</td>\n",
       "      <td>8</td>\n",
       "      <td>pear</td>\n",
       "      <td>2022</td>\n",
       "      <td>1.0</td>\n",
       "    </tr>\n",
       "  </tbody>\n",
       "</table>\n",
       "</div>"
      ],
      "text/plain": [
       "   fruitPrice  num fruitName  Year  stock\n",
       "0        2500   10     apple  2022    4.0\n",
       "1        3800    5    banana  2022    NaN\n",
       "2        6000    3    cherry  2022    2.0\n",
       "3        1200    8      pear  2022    1.0"
      ]
     },
     "execution_count": 22,
     "metadata": {},
     "output_type": "execute_result"
    }
   ],
   "source": [
    "fruitFrame"
   ]
  },
  {
   "cell_type": "code",
   "execution_count": 23,
   "id": "cd113555",
   "metadata": {},
   "outputs": [
    {
     "data": {
      "text/plain": [
       "apple     2500\n",
       "banana    3800\n",
       "pear      1200\n",
       "cherry    6000\n",
       "dtype: int64"
      ]
     },
     "execution_count": 23,
     "metadata": {},
     "output_type": "execute_result"
    }
   ],
   "source": [
    "fruit = Series([2500,3800,1200,6000],index=['apple','banana','pear','cherry'])\n",
    "fruit"
   ]
  },
  {
   "cell_type": "code",
   "execution_count": 24,
   "id": "4a91a080",
   "metadata": {},
   "outputs": [
    {
     "data": {
      "text/plain": [
       "apple     2500\n",
       "pear      1200\n",
       "cherry    6000\n",
       "dtype: int64"
      ]
     },
     "execution_count": 24,
     "metadata": {},
     "output_type": "execute_result"
    }
   ],
   "source": [
    "fruit.drop('banana')\n",
    "#drop 명령어는 안의 내용을 삭제하는게 아니라 삭제한 결과를 돌려주는(return)것이다.\n",
    "new_fruit=fruit.drop('banana')\n",
    "new_fruit"
   ]
  },
  {
   "cell_type": "code",
   "execution_count": 25,
   "id": "379d6997",
   "metadata": {},
   "outputs": [
    {
     "data": {
      "text/plain": [
       "{'fruitName': ['apple', 'banana', 'cherry', 'pear'],\n",
       " 'fruitPrice': [2500, 3800, 6000, 1200],\n",
       " 'num': [10, 5, 3, 8]}"
      ]
     },
     "execution_count": 25,
     "metadata": {},
     "output_type": "execute_result"
    }
   ],
   "source": [
    "fruitData"
   ]
  },
  {
   "cell_type": "code",
   "execution_count": 26,
   "id": "765d19d2",
   "metadata": {},
   "outputs": [
    {
     "data": {
      "text/plain": [
       "['apple', 'banana', 'cherry', 'pear']"
      ]
     },
     "execution_count": 26,
     "metadata": {},
     "output_type": "execute_result"
    }
   ],
   "source": [
    "fruitName = fruitData['fruitName']\n",
    "fruitName"
   ]
  },
  {
   "cell_type": "code",
   "execution_count": 27,
   "id": "b5328a98",
   "metadata": {},
   "outputs": [
    {
     "data": {
      "text/html": [
       "<div>\n",
       "<style scoped>\n",
       "    .dataframe tbody tr th:only-of-type {\n",
       "        vertical-align: middle;\n",
       "    }\n",
       "\n",
       "    .dataframe tbody tr th {\n",
       "        vertical-align: top;\n",
       "    }\n",
       "\n",
       "    .dataframe thead th {\n",
       "        text-align: right;\n",
       "    }\n",
       "</style>\n",
       "<table border=\"1\" class=\"dataframe\">\n",
       "  <thead>\n",
       "    <tr style=\"text-align: right;\">\n",
       "      <th></th>\n",
       "      <th>fruitPrice</th>\n",
       "      <th>num</th>\n",
       "    </tr>\n",
       "  </thead>\n",
       "  <tbody>\n",
       "    <tr>\n",
       "      <th>apple</th>\n",
       "      <td>2500</td>\n",
       "      <td>10</td>\n",
       "    </tr>\n",
       "    <tr>\n",
       "      <th>banana</th>\n",
       "      <td>3800</td>\n",
       "      <td>5</td>\n",
       "    </tr>\n",
       "    <tr>\n",
       "      <th>cherry</th>\n",
       "      <td>6000</td>\n",
       "      <td>3</td>\n",
       "    </tr>\n",
       "    <tr>\n",
       "      <th>pear</th>\n",
       "      <td>1200</td>\n",
       "      <td>8</td>\n",
       "    </tr>\n",
       "  </tbody>\n",
       "</table>\n",
       "</div>"
      ],
      "text/plain": [
       "        fruitPrice  num\n",
       "apple         2500   10\n",
       "banana        3800    5\n",
       "cherry        6000    3\n",
       "pear          1200    8"
      ]
     },
     "execution_count": 27,
     "metadata": {},
     "output_type": "execute_result"
    }
   ],
   "source": [
    "fruitFrame = DataFrame(fruitData,\n",
    "                      index=fruitName,\n",
    "                      columns=['fruitPrice','num'])\n",
    "fruitFrame"
   ]
  },
  {
   "cell_type": "code",
   "execution_count": 28,
   "id": "74be6dd4",
   "metadata": {},
   "outputs": [
    {
     "data": {
      "text/html": [
       "<div>\n",
       "<style scoped>\n",
       "    .dataframe tbody tr th:only-of-type {\n",
       "        vertical-align: middle;\n",
       "    }\n",
       "\n",
       "    .dataframe tbody tr th {\n",
       "        vertical-align: top;\n",
       "    }\n",
       "\n",
       "    .dataframe thead th {\n",
       "        text-align: right;\n",
       "    }\n",
       "</style>\n",
       "<table border=\"1\" class=\"dataframe\">\n",
       "  <thead>\n",
       "    <tr style=\"text-align: right;\">\n",
       "      <th></th>\n",
       "      <th>fruitPrice</th>\n",
       "      <th>num</th>\n",
       "    </tr>\n",
       "  </thead>\n",
       "  <tbody>\n",
       "    <tr>\n",
       "      <th>banana</th>\n",
       "      <td>3800</td>\n",
       "      <td>5</td>\n",
       "    </tr>\n",
       "    <tr>\n",
       "      <th>pear</th>\n",
       "      <td>1200</td>\n",
       "      <td>8</td>\n",
       "    </tr>\n",
       "  </tbody>\n",
       "</table>\n",
       "</div>"
      ],
      "text/plain": [
       "        fruitPrice  num\n",
       "banana        3800    5\n",
       "pear          1200    8"
      ]
     },
     "execution_count": 28,
     "metadata": {},
     "output_type": "execute_result"
    }
   ],
   "source": [
    "fruitFrame2 = fruitFrame.drop(['apple','cherry'])\n",
    "fruitFrame2"
   ]
  },
  {
   "cell_type": "code",
   "execution_count": 29,
   "id": "90a6357a",
   "metadata": {},
   "outputs": [
    {
     "data": {
      "text/html": [
       "<div>\n",
       "<style scoped>\n",
       "    .dataframe tbody tr th:only-of-type {\n",
       "        vertical-align: middle;\n",
       "    }\n",
       "\n",
       "    .dataframe tbody tr th {\n",
       "        vertical-align: top;\n",
       "    }\n",
       "\n",
       "    .dataframe thead th {\n",
       "        text-align: right;\n",
       "    }\n",
       "</style>\n",
       "<table border=\"1\" class=\"dataframe\">\n",
       "  <thead>\n",
       "    <tr style=\"text-align: right;\">\n",
       "      <th></th>\n",
       "      <th>fruitPrice</th>\n",
       "    </tr>\n",
       "  </thead>\n",
       "  <tbody>\n",
       "    <tr>\n",
       "      <th>apple</th>\n",
       "      <td>2500</td>\n",
       "    </tr>\n",
       "    <tr>\n",
       "      <th>banana</th>\n",
       "      <td>3800</td>\n",
       "    </tr>\n",
       "    <tr>\n",
       "      <th>cherry</th>\n",
       "      <td>6000</td>\n",
       "    </tr>\n",
       "    <tr>\n",
       "      <th>pear</th>\n",
       "      <td>1200</td>\n",
       "    </tr>\n",
       "  </tbody>\n",
       "</table>\n",
       "</div>"
      ],
      "text/plain": [
       "        fruitPrice\n",
       "apple         2500\n",
       "banana        3800\n",
       "cherry        6000\n",
       "pear          1200"
      ]
     },
     "execution_count": 29,
     "metadata": {},
     "output_type": "execute_result"
    }
   ],
   "source": [
    "fruitFrame3 = fruitFrame.drop('num',axis=1)\n",
    "fruitFrame3"
   ]
  },
  {
   "cell_type": "code",
   "execution_count": 30,
   "id": "1ca6bb5a",
   "metadata": {},
   "outputs": [
    {
     "data": {
      "text/plain": [
       "apple     2500\n",
       "banana    3800\n",
       "pear      1200\n",
       "cherry    6000\n",
       "dtype: int64"
      ]
     },
     "execution_count": 30,
     "metadata": {},
     "output_type": "execute_result"
    }
   ],
   "source": [
    "fruit"
   ]
  },
  {
   "cell_type": "code",
   "execution_count": 31,
   "id": "d4c06d8c",
   "metadata": {},
   "outputs": [
    {
     "data": {
      "text/plain": [
       "apple     2500\n",
       "banana    3800\n",
       "pear      1200\n",
       "dtype: int64"
      ]
     },
     "execution_count": 31,
     "metadata": {},
     "output_type": "execute_result"
    }
   ],
   "source": [
    "fruit['apple':'pear']\n",
    "#숫자로 할때는 미만이었을때와 다르게 문자로 할때는 이하로 나온다."
   ]
  },
  {
   "cell_type": "code",
   "execution_count": 32,
   "id": "f6336a25",
   "metadata": {},
   "outputs": [
    {
     "data": {
      "text/html": [
       "<div>\n",
       "<style scoped>\n",
       "    .dataframe tbody tr th:only-of-type {\n",
       "        vertical-align: middle;\n",
       "    }\n",
       "\n",
       "    .dataframe tbody tr th {\n",
       "        vertical-align: top;\n",
       "    }\n",
       "\n",
       "    .dataframe thead th {\n",
       "        text-align: right;\n",
       "    }\n",
       "</style>\n",
       "<table border=\"1\" class=\"dataframe\">\n",
       "  <thead>\n",
       "    <tr style=\"text-align: right;\">\n",
       "      <th></th>\n",
       "      <th>fruitPrice</th>\n",
       "      <th>num</th>\n",
       "    </tr>\n",
       "  </thead>\n",
       "  <tbody>\n",
       "    <tr>\n",
       "      <th>apple</th>\n",
       "      <td>2500</td>\n",
       "      <td>10</td>\n",
       "    </tr>\n",
       "    <tr>\n",
       "      <th>banana</th>\n",
       "      <td>3800</td>\n",
       "      <td>5</td>\n",
       "    </tr>\n",
       "    <tr>\n",
       "      <th>cherry</th>\n",
       "      <td>6000</td>\n",
       "      <td>3</td>\n",
       "    </tr>\n",
       "    <tr>\n",
       "      <th>pear</th>\n",
       "      <td>1200</td>\n",
       "      <td>8</td>\n",
       "    </tr>\n",
       "  </tbody>\n",
       "</table>\n",
       "</div>"
      ],
      "text/plain": [
       "        fruitPrice  num\n",
       "apple         2500   10\n",
       "banana        3800    5\n",
       "cherry        6000    3\n",
       "pear          1200    8"
      ]
     },
     "execution_count": 32,
     "metadata": {},
     "output_type": "execute_result"
    }
   ],
   "source": [
    "fruitFrame"
   ]
  },
  {
   "cell_type": "code",
   "execution_count": 33,
   "id": "6c53ea2d",
   "metadata": {},
   "outputs": [
    {
     "data": {
      "text/html": [
       "<div>\n",
       "<style scoped>\n",
       "    .dataframe tbody tr th:only-of-type {\n",
       "        vertical-align: middle;\n",
       "    }\n",
       "\n",
       "    .dataframe tbody tr th {\n",
       "        vertical-align: top;\n",
       "    }\n",
       "\n",
       "    .dataframe thead th {\n",
       "        text-align: right;\n",
       "    }\n",
       "</style>\n",
       "<table border=\"1\" class=\"dataframe\">\n",
       "  <thead>\n",
       "    <tr style=\"text-align: right;\">\n",
       "      <th></th>\n",
       "      <th>fruitPrice</th>\n",
       "      <th>num</th>\n",
       "    </tr>\n",
       "  </thead>\n",
       "  <tbody>\n",
       "    <tr>\n",
       "      <th>apple</th>\n",
       "      <td>2500</td>\n",
       "      <td>10</td>\n",
       "    </tr>\n",
       "    <tr>\n",
       "      <th>banana</th>\n",
       "      <td>3800</td>\n",
       "      <td>5</td>\n",
       "    </tr>\n",
       "  </tbody>\n",
       "</table>\n",
       "</div>"
      ],
      "text/plain": [
       "        fruitPrice  num\n",
       "apple         2500   10\n",
       "banana        3800    5"
      ]
     },
     "execution_count": 33,
     "metadata": {},
     "output_type": "execute_result"
    }
   ],
   "source": [
    "fruitFrame['apple':'banana']"
   ]
  },
  {
   "cell_type": "code",
   "execution_count": 34,
   "id": "cdcabdc2",
   "metadata": {},
   "outputs": [],
   "source": [
    "fruit1 = Series([5,9,10,3],index=['apple','banana','cherry','pear'])\n",
    "fruit2 = Series([3,2,9,5,10],index=['apple','orange','banana','cherry','mango'])"
   ]
  },
  {
   "cell_type": "code",
   "execution_count": 35,
   "id": "0e4dc8b8",
   "metadata": {},
   "outputs": [
    {
     "data": {
      "text/plain": [
       "apple      8.0\n",
       "banana    18.0\n",
       "cherry    15.0\n",
       "mango      NaN\n",
       "orange     NaN\n",
       "pear       NaN\n",
       "dtype: float64"
      ]
     },
     "execution_count": 35,
     "metadata": {},
     "output_type": "execute_result"
    }
   ],
   "source": [
    "fruit1 + fruit2\n",
    "#같은 연산끼리는 연산이 되지만, 한쪽에만 있는것은 연산이 되지 않는다."
   ]
  },
  {
   "cell_type": "code",
   "execution_count": 36,
   "id": "4d49c7a3",
   "metadata": {},
   "outputs": [],
   "source": [
    "fruitData1 = {'Ohio' : [4,8,3,5],'Texas' : [0,1,2,3]}\n",
    "fruitFrame1 = DataFrame(fruitData1,columns=['Ohio','Texas'],index = ['apple','banana','cherry','pear'])\n",
    "fruitData2 = {'Ohio' : [3,0,2,1,7],'Colorado':[5,4,3,6,0]}\n",
    "fruitFrame2 = DataFrame(fruitData2,columns =['Ohio','Colorado'],index = ['apple','orange','banana','cherry','mango'])"
   ]
  },
  {
   "cell_type": "code",
   "execution_count": 37,
   "id": "731a807a",
   "metadata": {},
   "outputs": [
    {
     "data": {
      "text/html": [
       "<div>\n",
       "<style scoped>\n",
       "    .dataframe tbody tr th:only-of-type {\n",
       "        vertical-align: middle;\n",
       "    }\n",
       "\n",
       "    .dataframe tbody tr th {\n",
       "        vertical-align: top;\n",
       "    }\n",
       "\n",
       "    .dataframe thead th {\n",
       "        text-align: right;\n",
       "    }\n",
       "</style>\n",
       "<table border=\"1\" class=\"dataframe\">\n",
       "  <thead>\n",
       "    <tr style=\"text-align: right;\">\n",
       "      <th></th>\n",
       "      <th>Ohio</th>\n",
       "      <th>Texas</th>\n",
       "    </tr>\n",
       "  </thead>\n",
       "  <tbody>\n",
       "    <tr>\n",
       "      <th>apple</th>\n",
       "      <td>4</td>\n",
       "      <td>0</td>\n",
       "    </tr>\n",
       "    <tr>\n",
       "      <th>banana</th>\n",
       "      <td>8</td>\n",
       "      <td>1</td>\n",
       "    </tr>\n",
       "    <tr>\n",
       "      <th>cherry</th>\n",
       "      <td>3</td>\n",
       "      <td>2</td>\n",
       "    </tr>\n",
       "    <tr>\n",
       "      <th>pear</th>\n",
       "      <td>5</td>\n",
       "      <td>3</td>\n",
       "    </tr>\n",
       "  </tbody>\n",
       "</table>\n",
       "</div>"
      ],
      "text/plain": [
       "        Ohio  Texas\n",
       "apple      4      0\n",
       "banana     8      1\n",
       "cherry     3      2\n",
       "pear       5      3"
      ]
     },
     "execution_count": 37,
     "metadata": {},
     "output_type": "execute_result"
    }
   ],
   "source": [
    "fruitFrame1"
   ]
  },
  {
   "cell_type": "code",
   "execution_count": 38,
   "id": "d118e6f3",
   "metadata": {},
   "outputs": [
    {
     "data": {
      "text/html": [
       "<div>\n",
       "<style scoped>\n",
       "    .dataframe tbody tr th:only-of-type {\n",
       "        vertical-align: middle;\n",
       "    }\n",
       "\n",
       "    .dataframe tbody tr th {\n",
       "        vertical-align: top;\n",
       "    }\n",
       "\n",
       "    .dataframe thead th {\n",
       "        text-align: right;\n",
       "    }\n",
       "</style>\n",
       "<table border=\"1\" class=\"dataframe\">\n",
       "  <thead>\n",
       "    <tr style=\"text-align: right;\">\n",
       "      <th></th>\n",
       "      <th>Ohio</th>\n",
       "      <th>Colorado</th>\n",
       "    </tr>\n",
       "  </thead>\n",
       "  <tbody>\n",
       "    <tr>\n",
       "      <th>apple</th>\n",
       "      <td>3</td>\n",
       "      <td>5</td>\n",
       "    </tr>\n",
       "    <tr>\n",
       "      <th>orange</th>\n",
       "      <td>0</td>\n",
       "      <td>4</td>\n",
       "    </tr>\n",
       "    <tr>\n",
       "      <th>banana</th>\n",
       "      <td>2</td>\n",
       "      <td>3</td>\n",
       "    </tr>\n",
       "    <tr>\n",
       "      <th>cherry</th>\n",
       "      <td>1</td>\n",
       "      <td>6</td>\n",
       "    </tr>\n",
       "    <tr>\n",
       "      <th>mango</th>\n",
       "      <td>7</td>\n",
       "      <td>0</td>\n",
       "    </tr>\n",
       "  </tbody>\n",
       "</table>\n",
       "</div>"
      ],
      "text/plain": [
       "        Ohio  Colorado\n",
       "apple      3         5\n",
       "orange     0         4\n",
       "banana     2         3\n",
       "cherry     1         6\n",
       "mango      7         0"
      ]
     },
     "execution_count": 38,
     "metadata": {},
     "output_type": "execute_result"
    }
   ],
   "source": [
    "fruitFrame2"
   ]
  },
  {
   "cell_type": "code",
   "execution_count": 39,
   "id": "d99e313f",
   "metadata": {},
   "outputs": [
    {
     "data": {
      "text/html": [
       "<div>\n",
       "<style scoped>\n",
       "    .dataframe tbody tr th:only-of-type {\n",
       "        vertical-align: middle;\n",
       "    }\n",
       "\n",
       "    .dataframe tbody tr th {\n",
       "        vertical-align: top;\n",
       "    }\n",
       "\n",
       "    .dataframe thead th {\n",
       "        text-align: right;\n",
       "    }\n",
       "</style>\n",
       "<table border=\"1\" class=\"dataframe\">\n",
       "  <thead>\n",
       "    <tr style=\"text-align: right;\">\n",
       "      <th></th>\n",
       "      <th>Colorado</th>\n",
       "      <th>Ohio</th>\n",
       "      <th>Texas</th>\n",
       "    </tr>\n",
       "  </thead>\n",
       "  <tbody>\n",
       "    <tr>\n",
       "      <th>apple</th>\n",
       "      <td>NaN</td>\n",
       "      <td>7.0</td>\n",
       "      <td>NaN</td>\n",
       "    </tr>\n",
       "    <tr>\n",
       "      <th>banana</th>\n",
       "      <td>NaN</td>\n",
       "      <td>10.0</td>\n",
       "      <td>NaN</td>\n",
       "    </tr>\n",
       "    <tr>\n",
       "      <th>cherry</th>\n",
       "      <td>NaN</td>\n",
       "      <td>4.0</td>\n",
       "      <td>NaN</td>\n",
       "    </tr>\n",
       "    <tr>\n",
       "      <th>mango</th>\n",
       "      <td>NaN</td>\n",
       "      <td>NaN</td>\n",
       "      <td>NaN</td>\n",
       "    </tr>\n",
       "    <tr>\n",
       "      <th>orange</th>\n",
       "      <td>NaN</td>\n",
       "      <td>NaN</td>\n",
       "      <td>NaN</td>\n",
       "    </tr>\n",
       "    <tr>\n",
       "      <th>pear</th>\n",
       "      <td>NaN</td>\n",
       "      <td>NaN</td>\n",
       "      <td>NaN</td>\n",
       "    </tr>\n",
       "  </tbody>\n",
       "</table>\n",
       "</div>"
      ],
      "text/plain": [
       "        Colorado  Ohio  Texas\n",
       "apple        NaN   7.0    NaN\n",
       "banana       NaN  10.0    NaN\n",
       "cherry       NaN   4.0    NaN\n",
       "mango        NaN   NaN    NaN\n",
       "orange       NaN   NaN    NaN\n",
       "pear         NaN   NaN    NaN"
      ]
     },
     "execution_count": 39,
     "metadata": {},
     "output_type": "execute_result"
    }
   ],
   "source": [
    "fruitFrame1 + fruitFrame2\n",
    "#겹치는 지점만 계산이 된다."
   ]
  },
  {
   "cell_type": "code",
   "execution_count": 40,
   "id": "45c7d72c",
   "metadata": {},
   "outputs": [
    {
     "data": {
      "text/plain": [
       "apple     2500\n",
       "banana    3800\n",
       "pear      1200\n",
       "cherry    6000\n",
       "dtype: int64"
      ]
     },
     "execution_count": 40,
     "metadata": {},
     "output_type": "execute_result"
    }
   ],
   "source": [
    "fruit"
   ]
  },
  {
   "cell_type": "code",
   "execution_count": 44,
   "id": "8cfdcb63",
   "metadata": {},
   "outputs": [
    {
     "data": {
      "text/plain": [
       "cherry    6000\n",
       "banana    3800\n",
       "apple     2500\n",
       "pear      1200\n",
       "dtype: int64"
      ]
     },
     "execution_count": 44,
     "metadata": {},
     "output_type": "execute_result"
    }
   ],
   "source": [
    "fruit.sort_values(ascending=False)\n",
    "#()안이 비면 True 이므로 오름차순, 사진과 같이 False 로 설정하면 내림차순이다."
   ]
  },
  {
   "cell_type": "code",
   "execution_count": 47,
   "id": "cc3faa57",
   "metadata": {},
   "outputs": [
    {
     "data": {
      "text/plain": [
       "apple     2500\n",
       "banana    3800\n",
       "cherry    6000\n",
       "pear      1200\n",
       "dtype: int64"
      ]
     },
     "execution_count": 47,
     "metadata": {},
     "output_type": "execute_result"
    }
   ],
   "source": [
    "fruit.sort_index()"
   ]
  },
  {
   "cell_type": "code",
   "execution_count": 45,
   "id": "893d8ba9",
   "metadata": {},
   "outputs": [
    {
     "data": {
      "text/html": [
       "<div>\n",
       "<style scoped>\n",
       "    .dataframe tbody tr th:only-of-type {\n",
       "        vertical-align: middle;\n",
       "    }\n",
       "\n",
       "    .dataframe tbody tr th {\n",
       "        vertical-align: top;\n",
       "    }\n",
       "\n",
       "    .dataframe thead th {\n",
       "        text-align: right;\n",
       "    }\n",
       "</style>\n",
       "<table border=\"1\" class=\"dataframe\">\n",
       "  <thead>\n",
       "    <tr style=\"text-align: right;\">\n",
       "      <th></th>\n",
       "      <th>fruitPrice</th>\n",
       "      <th>num</th>\n",
       "    </tr>\n",
       "  </thead>\n",
       "  <tbody>\n",
       "    <tr>\n",
       "      <th>apple</th>\n",
       "      <td>2500</td>\n",
       "      <td>10</td>\n",
       "    </tr>\n",
       "    <tr>\n",
       "      <th>banana</th>\n",
       "      <td>3800</td>\n",
       "      <td>5</td>\n",
       "    </tr>\n",
       "    <tr>\n",
       "      <th>cherry</th>\n",
       "      <td>6000</td>\n",
       "      <td>3</td>\n",
       "    </tr>\n",
       "    <tr>\n",
       "      <th>pear</th>\n",
       "      <td>1200</td>\n",
       "      <td>8</td>\n",
       "    </tr>\n",
       "  </tbody>\n",
       "</table>\n",
       "</div>"
      ],
      "text/plain": [
       "        fruitPrice  num\n",
       "apple         2500   10\n",
       "banana        3800    5\n",
       "cherry        6000    3\n",
       "pear          1200    8"
      ]
     },
     "execution_count": 45,
     "metadata": {},
     "output_type": "execute_result"
    }
   ],
   "source": [
    "fruitFrame"
   ]
  },
  {
   "cell_type": "code",
   "execution_count": 46,
   "id": "9f9ebfc7",
   "metadata": {},
   "outputs": [
    {
     "data": {
      "text/html": [
       "<div>\n",
       "<style scoped>\n",
       "    .dataframe tbody tr th:only-of-type {\n",
       "        vertical-align: middle;\n",
       "    }\n",
       "\n",
       "    .dataframe tbody tr th {\n",
       "        vertical-align: top;\n",
       "    }\n",
       "\n",
       "    .dataframe thead th {\n",
       "        text-align: right;\n",
       "    }\n",
       "</style>\n",
       "<table border=\"1\" class=\"dataframe\">\n",
       "  <thead>\n",
       "    <tr style=\"text-align: right;\">\n",
       "      <th></th>\n",
       "      <th>fruitPrice</th>\n",
       "      <th>num</th>\n",
       "    </tr>\n",
       "  </thead>\n",
       "  <tbody>\n",
       "    <tr>\n",
       "      <th>apple</th>\n",
       "      <td>2500</td>\n",
       "      <td>10</td>\n",
       "    </tr>\n",
       "    <tr>\n",
       "      <th>banana</th>\n",
       "      <td>3800</td>\n",
       "      <td>5</td>\n",
       "    </tr>\n",
       "    <tr>\n",
       "      <th>cherry</th>\n",
       "      <td>6000</td>\n",
       "      <td>3</td>\n",
       "    </tr>\n",
       "    <tr>\n",
       "      <th>pear</th>\n",
       "      <td>1200</td>\n",
       "      <td>8</td>\n",
       "    </tr>\n",
       "  </tbody>\n",
       "</table>\n",
       "</div>"
      ],
      "text/plain": [
       "        fruitPrice  num\n",
       "apple         2500   10\n",
       "banana        3800    5\n",
       "cherry        6000    3\n",
       "pear          1200    8"
      ]
     },
     "execution_count": 46,
     "metadata": {},
     "output_type": "execute_result"
    }
   ],
   "source": [
    "fruitFrame.sort_index()"
   ]
  },
  {
   "cell_type": "code",
   "execution_count": 49,
   "id": "dc78981c",
   "metadata": {},
   "outputs": [
    {
     "data": {
      "text/html": [
       "<div>\n",
       "<style scoped>\n",
       "    .dataframe tbody tr th:only-of-type {\n",
       "        vertical-align: middle;\n",
       "    }\n",
       "\n",
       "    .dataframe tbody tr th {\n",
       "        vertical-align: top;\n",
       "    }\n",
       "\n",
       "    .dataframe thead th {\n",
       "        text-align: right;\n",
       "    }\n",
       "</style>\n",
       "<table border=\"1\" class=\"dataframe\">\n",
       "  <thead>\n",
       "    <tr style=\"text-align: right;\">\n",
       "      <th></th>\n",
       "      <th>fruitPrice</th>\n",
       "      <th>num</th>\n",
       "    </tr>\n",
       "  </thead>\n",
       "  <tbody>\n",
       "    <tr>\n",
       "      <th>pear</th>\n",
       "      <td>1200</td>\n",
       "      <td>8</td>\n",
       "    </tr>\n",
       "    <tr>\n",
       "      <th>apple</th>\n",
       "      <td>2500</td>\n",
       "      <td>10</td>\n",
       "    </tr>\n",
       "    <tr>\n",
       "      <th>banana</th>\n",
       "      <td>3800</td>\n",
       "      <td>5</td>\n",
       "    </tr>\n",
       "    <tr>\n",
       "      <th>cherry</th>\n",
       "      <td>6000</td>\n",
       "      <td>3</td>\n",
       "    </tr>\n",
       "  </tbody>\n",
       "</table>\n",
       "</div>"
      ],
      "text/plain": [
       "        fruitPrice  num\n",
       "pear          1200    8\n",
       "apple         2500   10\n",
       "banana        3800    5\n",
       "cherry        6000    3"
      ]
     },
     "execution_count": 49,
     "metadata": {},
     "output_type": "execute_result"
    }
   ],
   "source": [
    "fruitFrame.sort_values(by=['fruitPrice','num'])\n",
    "# by로 정렬기준을 설정한다."
   ]
  },
  {
   "cell_type": "code",
   "execution_count": 50,
   "id": "3d8f9b0c",
   "metadata": {},
   "outputs": [],
   "source": [
    "german = pd.read_csv('http://freakonometrics.free.fr/german_credit.csv')\n",
    "# 웹상에 있는 파일을 바로 불러올수있다 (파일이 내부에 없어도)"
   ]
  },
  {
   "cell_type": "code",
   "execution_count": 53,
   "id": "c0f1cf03",
   "metadata": {},
   "outputs": [
    {
     "data": {
      "text/plain": [
       "['Creditability',\n",
       " 'Account Balance',\n",
       " 'Duration of Credit (month)',\n",
       " 'Payment Status of Previous Credit',\n",
       " 'Purpose',\n",
       " 'Credit Amount',\n",
       " 'Value Savings/Stocks',\n",
       " 'Length of current employment',\n",
       " 'Instalment per cent',\n",
       " 'Sex & Marital Status',\n",
       " 'Guarantors',\n",
       " 'Duration in Current address',\n",
       " 'Most valuable available asset',\n",
       " 'Age (years)',\n",
       " 'Concurrent Credits',\n",
       " 'Type of apartment',\n",
       " 'No of Credits at this Bank',\n",
       " 'Occupation',\n",
       " 'No of dependents',\n",
       " 'Telephone',\n",
       " 'Foreign Worker']"
      ]
     },
     "execution_count": 53,
     "metadata": {},
     "output_type": "execute_result"
    }
   ],
   "source": [
    "list(german.columns.values)"
   ]
  },
  {
   "cell_type": "code",
   "execution_count": 54,
   "id": "2c53a243",
   "metadata": {},
   "outputs": [],
   "source": [
    "german_sample = german[['Creditability','Duration of Credit (month)','Purpose','Credit Amount']]"
   ]
  },
  {
   "cell_type": "code",
   "execution_count": 55,
   "id": "907ef2f0",
   "metadata": {},
   "outputs": [
    {
     "data": {
      "text/html": [
       "<div>\n",
       "<style scoped>\n",
       "    .dataframe tbody tr th:only-of-type {\n",
       "        vertical-align: middle;\n",
       "    }\n",
       "\n",
       "    .dataframe tbody tr th {\n",
       "        vertical-align: top;\n",
       "    }\n",
       "\n",
       "    .dataframe thead th {\n",
       "        text-align: right;\n",
       "    }\n",
       "</style>\n",
       "<table border=\"1\" class=\"dataframe\">\n",
       "  <thead>\n",
       "    <tr style=\"text-align: right;\">\n",
       "      <th></th>\n",
       "      <th>Creditability</th>\n",
       "      <th>Duration of Credit (month)</th>\n",
       "      <th>Purpose</th>\n",
       "      <th>Credit Amount</th>\n",
       "    </tr>\n",
       "  </thead>\n",
       "  <tbody>\n",
       "    <tr>\n",
       "      <th>0</th>\n",
       "      <td>1</td>\n",
       "      <td>18</td>\n",
       "      <td>2</td>\n",
       "      <td>1049</td>\n",
       "    </tr>\n",
       "    <tr>\n",
       "      <th>1</th>\n",
       "      <td>1</td>\n",
       "      <td>9</td>\n",
       "      <td>0</td>\n",
       "      <td>2799</td>\n",
       "    </tr>\n",
       "    <tr>\n",
       "      <th>2</th>\n",
       "      <td>1</td>\n",
       "      <td>12</td>\n",
       "      <td>9</td>\n",
       "      <td>841</td>\n",
       "    </tr>\n",
       "    <tr>\n",
       "      <th>3</th>\n",
       "      <td>1</td>\n",
       "      <td>12</td>\n",
       "      <td>0</td>\n",
       "      <td>2122</td>\n",
       "    </tr>\n",
       "    <tr>\n",
       "      <th>4</th>\n",
       "      <td>1</td>\n",
       "      <td>12</td>\n",
       "      <td>0</td>\n",
       "      <td>2171</td>\n",
       "    </tr>\n",
       "    <tr>\n",
       "      <th>...</th>\n",
       "      <td>...</td>\n",
       "      <td>...</td>\n",
       "      <td>...</td>\n",
       "      <td>...</td>\n",
       "    </tr>\n",
       "    <tr>\n",
       "      <th>995</th>\n",
       "      <td>0</td>\n",
       "      <td>24</td>\n",
       "      <td>3</td>\n",
       "      <td>1987</td>\n",
       "    </tr>\n",
       "    <tr>\n",
       "      <th>996</th>\n",
       "      <td>0</td>\n",
       "      <td>24</td>\n",
       "      <td>0</td>\n",
       "      <td>2303</td>\n",
       "    </tr>\n",
       "    <tr>\n",
       "      <th>997</th>\n",
       "      <td>0</td>\n",
       "      <td>21</td>\n",
       "      <td>0</td>\n",
       "      <td>12680</td>\n",
       "    </tr>\n",
       "    <tr>\n",
       "      <th>998</th>\n",
       "      <td>0</td>\n",
       "      <td>12</td>\n",
       "      <td>3</td>\n",
       "      <td>6468</td>\n",
       "    </tr>\n",
       "    <tr>\n",
       "      <th>999</th>\n",
       "      <td>0</td>\n",
       "      <td>30</td>\n",
       "      <td>2</td>\n",
       "      <td>6350</td>\n",
       "    </tr>\n",
       "  </tbody>\n",
       "</table>\n",
       "<p>1000 rows × 4 columns</p>\n",
       "</div>"
      ],
      "text/plain": [
       "     Creditability  Duration of Credit (month)  Purpose  Credit Amount\n",
       "0                1                          18        2           1049\n",
       "1                1                           9        0           2799\n",
       "2                1                          12        9            841\n",
       "3                1                          12        0           2122\n",
       "4                1                          12        0           2171\n",
       "..             ...                         ...      ...            ...\n",
       "995              0                          24        3           1987\n",
       "996              0                          24        0           2303\n",
       "997              0                          21        0          12680\n",
       "998              0                          12        3           6468\n",
       "999              0                          30        2           6350\n",
       "\n",
       "[1000 rows x 4 columns]"
      ]
     },
     "execution_count": 55,
     "metadata": {},
     "output_type": "execute_result"
    }
   ],
   "source": [
    "german_sample"
   ]
  },
  {
   "cell_type": "code",
   "execution_count": 56,
   "id": "e2be2507",
   "metadata": {},
   "outputs": [
    {
     "data": {
      "text/plain": [
       "Creditability                   0\n",
       "Duration of Credit (month)      4\n",
       "Purpose                         0\n",
       "Credit Amount                 250\n",
       "dtype: int64"
      ]
     },
     "execution_count": 56,
     "metadata": {},
     "output_type": "execute_result"
    }
   ],
   "source": [
    "german_sample.min()\n",
    "#최소값"
   ]
  },
  {
   "cell_type": "code",
   "execution_count": 57,
   "id": "f456c326",
   "metadata": {},
   "outputs": [
    {
     "data": {
      "text/plain": [
       "Creditability                     1\n",
       "Duration of Credit (month)       72\n",
       "Purpose                          10\n",
       "Credit Amount                 18424\n",
       "dtype: int64"
      ]
     },
     "execution_count": 57,
     "metadata": {},
     "output_type": "execute_result"
    }
   ],
   "source": [
    "german_sample.max()\n",
    "#최댓값"
   ]
  },
  {
   "cell_type": "code",
   "execution_count": 58,
   "id": "b473b8db",
   "metadata": {},
   "outputs": [
    {
     "data": {
      "text/plain": [
       "Creditability                    0.700\n",
       "Duration of Credit (month)      20.903\n",
       "Purpose                          2.828\n",
       "Credit Amount                 3271.248\n",
       "dtype: float64"
      ]
     },
     "execution_count": 58,
     "metadata": {},
     "output_type": "execute_result"
    }
   ],
   "source": [
    "german_sample.mean()\n",
    "#평균값"
   ]
  },
  {
   "cell_type": "code",
   "execution_count": 62,
   "id": "56c8e3c2",
   "metadata": {},
   "outputs": [
    {
     "data": {
      "text/plain": [
       "<bound method NDFrame.describe of      Creditability  Duration of Credit (month)  Purpose  Credit Amount\n",
       "0                1                          18        2           1049\n",
       "1                1                           9        0           2799\n",
       "2                1                          12        9            841\n",
       "3                1                          12        0           2122\n",
       "4                1                          12        0           2171\n",
       "..             ...                         ...      ...            ...\n",
       "995              0                          24        3           1987\n",
       "996              0                          24        0           2303\n",
       "997              0                          21        0          12680\n",
       "998              0                          12        3           6468\n",
       "999              0                          30        2           6350\n",
       "\n",
       "[1000 rows x 4 columns]>"
      ]
     },
     "execution_count": 62,
     "metadata": {},
     "output_type": "execute_result"
    }
   ],
   "source": [
    "german_sample.describe\n",
    "#전체의 요약정보\n"
   ]
  },
  {
   "cell_type": "code",
   "execution_count": 63,
   "id": "540b613a",
   "metadata": {},
   "outputs": [],
   "source": [
    "german_sample = german[['Duration of Credit (month)','Credit Amount', 'Age (years)']]"
   ]
  },
  {
   "cell_type": "code",
   "execution_count": 65,
   "id": "73fa6265",
   "metadata": {},
   "outputs": [
    {
     "data": {
      "text/html": [
       "<div>\n",
       "<style scoped>\n",
       "    .dataframe tbody tr th:only-of-type {\n",
       "        vertical-align: middle;\n",
       "    }\n",
       "\n",
       "    .dataframe tbody tr th {\n",
       "        vertical-align: top;\n",
       "    }\n",
       "\n",
       "    .dataframe thead th {\n",
       "        text-align: right;\n",
       "    }\n",
       "</style>\n",
       "<table border=\"1\" class=\"dataframe\">\n",
       "  <thead>\n",
       "    <tr style=\"text-align: right;\">\n",
       "      <th></th>\n",
       "      <th>Duration of Credit (month)</th>\n",
       "      <th>Credit Amount</th>\n",
       "      <th>Age (years)</th>\n",
       "    </tr>\n",
       "  </thead>\n",
       "  <tbody>\n",
       "    <tr>\n",
       "      <th>Duration of Credit (month)</th>\n",
       "      <td>1.000000</td>\n",
       "      <td>0.624988</td>\n",
       "      <td>-0.037550</td>\n",
       "    </tr>\n",
       "    <tr>\n",
       "      <th>Credit Amount</th>\n",
       "      <td>0.624988</td>\n",
       "      <td>1.000000</td>\n",
       "      <td>0.032273</td>\n",
       "    </tr>\n",
       "    <tr>\n",
       "      <th>Age (years)</th>\n",
       "      <td>-0.037550</td>\n",
       "      <td>0.032273</td>\n",
       "      <td>1.000000</td>\n",
       "    </tr>\n",
       "  </tbody>\n",
       "</table>\n",
       "</div>"
      ],
      "text/plain": [
       "                            Duration of Credit (month)  Credit Amount  \\\n",
       "Duration of Credit (month)                    1.000000       0.624988   \n",
       "Credit Amount                                 0.624988       1.000000   \n",
       "Age (years)                                  -0.037550       0.032273   \n",
       "\n",
       "                            Age (years)  \n",
       "Duration of Credit (month)    -0.037550  \n",
       "Credit Amount                  0.032273  \n",
       "Age (years)                    1.000000  "
      ]
     },
     "execution_count": 65,
     "metadata": {},
     "output_type": "execute_result"
    }
   ],
   "source": [
    "german_sample.corr()\n",
    "#관계가 있는 모델들을 뽑아와서 상관관계를 확인하는게 중요하다. 상관계수 correlation , 약자로 corr 을 사용한다"
   ]
  },
  {
   "cell_type": "code",
   "execution_count": 66,
   "id": "b1d456a1",
   "metadata": {},
   "outputs": [],
   "source": [
    "german_sample = german[['Credit Amount', 'Type of apartment']]"
   ]
  },
  {
   "cell_type": "code",
   "execution_count": 67,
   "id": "49fc9432",
   "metadata": {},
   "outputs": [
    {
     "data": {
      "text/html": [
       "<div>\n",
       "<style scoped>\n",
       "    .dataframe tbody tr th:only-of-type {\n",
       "        vertical-align: middle;\n",
       "    }\n",
       "\n",
       "    .dataframe tbody tr th {\n",
       "        vertical-align: top;\n",
       "    }\n",
       "\n",
       "    .dataframe thead th {\n",
       "        text-align: right;\n",
       "    }\n",
       "</style>\n",
       "<table border=\"1\" class=\"dataframe\">\n",
       "  <thead>\n",
       "    <tr style=\"text-align: right;\">\n",
       "      <th></th>\n",
       "      <th>Credit Amount</th>\n",
       "      <th>Type of apartment</th>\n",
       "    </tr>\n",
       "  </thead>\n",
       "  <tbody>\n",
       "    <tr>\n",
       "      <th>0</th>\n",
       "      <td>1049</td>\n",
       "      <td>1</td>\n",
       "    </tr>\n",
       "    <tr>\n",
       "      <th>1</th>\n",
       "      <td>2799</td>\n",
       "      <td>1</td>\n",
       "    </tr>\n",
       "    <tr>\n",
       "      <th>2</th>\n",
       "      <td>841</td>\n",
       "      <td>1</td>\n",
       "    </tr>\n",
       "    <tr>\n",
       "      <th>3</th>\n",
       "      <td>2122</td>\n",
       "      <td>1</td>\n",
       "    </tr>\n",
       "    <tr>\n",
       "      <th>4</th>\n",
       "      <td>2171</td>\n",
       "      <td>2</td>\n",
       "    </tr>\n",
       "    <tr>\n",
       "      <th>...</th>\n",
       "      <td>...</td>\n",
       "      <td>...</td>\n",
       "    </tr>\n",
       "    <tr>\n",
       "      <th>995</th>\n",
       "      <td>1987</td>\n",
       "      <td>1</td>\n",
       "    </tr>\n",
       "    <tr>\n",
       "      <th>996</th>\n",
       "      <td>2303</td>\n",
       "      <td>2</td>\n",
       "    </tr>\n",
       "    <tr>\n",
       "      <th>997</th>\n",
       "      <td>12680</td>\n",
       "      <td>3</td>\n",
       "    </tr>\n",
       "    <tr>\n",
       "      <th>998</th>\n",
       "      <td>6468</td>\n",
       "      <td>2</td>\n",
       "    </tr>\n",
       "    <tr>\n",
       "      <th>999</th>\n",
       "      <td>6350</td>\n",
       "      <td>2</td>\n",
       "    </tr>\n",
       "  </tbody>\n",
       "</table>\n",
       "<p>1000 rows × 2 columns</p>\n",
       "</div>"
      ],
      "text/plain": [
       "     Credit Amount  Type of apartment\n",
       "0             1049                  1\n",
       "1             2799                  1\n",
       "2              841                  1\n",
       "3             2122                  1\n",
       "4             2171                  2\n",
       "..             ...                ...\n",
       "995           1987                  1\n",
       "996           2303                  2\n",
       "997          12680                  3\n",
       "998           6468                  2\n",
       "999           6350                  2\n",
       "\n",
       "[1000 rows x 2 columns]"
      ]
     },
     "execution_count": 67,
     "metadata": {},
     "output_type": "execute_result"
    }
   ],
   "source": [
    "german_sample"
   ]
  },
  {
   "cell_type": "code",
   "execution_count": 69,
   "id": "ed8fbbef",
   "metadata": {},
   "outputs": [
    {
     "data": {
      "text/plain": [
       "<pandas.core.groupby.generic.SeriesGroupBy object at 0x0000020A1AD985B0>"
      ]
     },
     "execution_count": 69,
     "metadata": {},
     "output_type": "execute_result"
    }
   ],
   "source": [
    "german_grouped = german_sample['Credit Amount'].groupby(german_sample['Type of apartment'])\n",
    "german_grouped"
   ]
  },
  {
   "cell_type": "code",
   "execution_count": 71,
   "id": "2a5cf4d7",
   "metadata": {},
   "outputs": [
    {
     "data": {
      "text/plain": [
       "Type of apartment\n",
       "1    3122.553073\n",
       "2    3067.257703\n",
       "3    4881.205607\n",
       "Name: Credit Amount, dtype: float64"
      ]
     },
     "execution_count": 71,
     "metadata": {},
     "output_type": "execute_result"
    }
   ],
   "source": [
    "german_grouped.mean()"
   ]
  },
  {
   "cell_type": "code",
   "execution_count": 72,
   "id": "d8d3c88a",
   "metadata": {},
   "outputs": [],
   "source": [
    "german_sample = german[['Credit Amount', 'Type of apartment','Purpose']]"
   ]
  },
  {
   "cell_type": "code",
   "execution_count": 75,
   "id": "de8fd2ae",
   "metadata": {},
   "outputs": [
    {
     "data": {
      "text/plain": [
       "<pandas.core.groupby.generic.SeriesGroupBy object at 0x0000020A19C613A0>"
      ]
     },
     "execution_count": 75,
     "metadata": {},
     "output_type": "execute_result"
    }
   ],
   "source": [
    "german_grouped = german_sample['Credit Amount'].groupby([german_sample['Purpose'],german_sample['Type of apartment']])\n",
    "german_grouped"
   ]
  },
  {
   "cell_type": "code",
   "execution_count": 76,
   "id": "3c697d0c",
   "metadata": {},
   "outputs": [
    {
     "data": {
      "text/plain": [
       "Purpose  Type of apartment\n",
       "0        1                    2597.225000\n",
       "         2                    2811.024242\n",
       "         3                    5138.689655\n",
       "1        1                    5037.086957\n",
       "         2                    4915.222222\n",
       "         3                    6609.923077\n",
       "2        1                    2727.354167\n",
       "         2                    3107.450820\n",
       "         3                    4100.181818\n",
       "3        1                    2199.763158\n",
       "         2                    2540.533040\n",
       "         3                    2417.333333\n",
       "4        1                    1255.500000\n",
       "         2                    1546.500000\n",
       "5        1                    1522.000000\n",
       "         2                    2866.000000\n",
       "         3                    2750.666667\n",
       "6        1                    3156.444444\n",
       "         2                    2492.423077\n",
       "         3                    4387.266667\n",
       "8        1                     902.000000\n",
       "         2                    1243.875000\n",
       "9        1                    5614.125000\n",
       "         2                    3800.592105\n",
       "         3                    4931.800000\n",
       "10       2                    8576.111111\n",
       "         3                    7109.000000\n",
       "Name: Credit Amount, dtype: float64"
      ]
     },
     "execution_count": 76,
     "metadata": {},
     "output_type": "execute_result"
    }
   ],
   "source": [
    "german_grouped.mean()"
   ]
  },
  {
   "cell_type": "code",
   "execution_count": null,
   "id": "224db6b9",
   "metadata": {},
   "outputs": [],
   "source": []
  }
 ],
 "metadata": {
  "kernelspec": {
   "display_name": "Python 3 (ipykernel)",
   "language": "python",
   "name": "python3"
  },
  "language_info": {
   "codemirror_mode": {
    "name": "ipython",
    "version": 3
   },
   "file_extension": ".py",
   "mimetype": "text/x-python",
   "name": "python",
   "nbconvert_exporter": "python",
   "pygments_lexer": "ipython3",
   "version": "3.9.7"
  }
 },
 "nbformat": 4,
 "nbformat_minor": 5
}
