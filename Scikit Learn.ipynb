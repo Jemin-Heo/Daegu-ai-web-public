{
 "cells": [
  {
   "cell_type": "code",
   "execution_count": 1,
   "id": "53840792",
   "metadata": {},
   "outputs": [],
   "source": [
    "import sklearn\n",
    "# scikit learn 줄여서 sklearn"
   ]
  },
  {
   "cell_type": "code",
   "execution_count": 2,
   "id": "536b81f7",
   "metadata": {},
   "outputs": [],
   "source": [
    "from sklearn.datasets import load_iris\n",
    "# sklearn 의 데이터셋 들 중에서 iris 데이터를 가져온다."
   ]
  },
  {
   "cell_type": "code",
   "execution_count": 3,
   "id": "e4003438",
   "metadata": {},
   "outputs": [],
   "source": [
    "iris_dataset = load_iris()"
   ]
  },
  {
   "cell_type": "code",
   "execution_count": 6,
   "id": "177ecb63",
   "metadata": {},
   "outputs": [
    {
     "name": "stdout",
     "output_type": "stream",
     "text": [
      "iris_dataset key:dict_keys(['data', 'target', 'frame', 'target_names', 'DESCR', 'feature_names', 'filename'])\n"
     ]
    }
   ],
   "source": [
    "print(f'iris_dataset key:{iris_dataset.keys()}' )\n",
    "# iris_dataset 의 key 는 어떤것이 있는가.  키값들을 출력한다."
   ]
  },
  {
   "cell_type": "code",
   "execution_count": 15,
   "id": "84057fa8",
   "metadata": {},
   "outputs": [
    {
     "name": "stdout",
     "output_type": "stream",
     "text": [
      ".. _iris_dataset:\n",
      "\n",
      "Iris plants dataset\n",
      "--------------------\n",
      "\n",
      "**Data Set Characteristics:**\n",
      "\n",
      "    :Number of Instances: 150 (50 in each of three classes)\n",
      "    :Number of Attributes: 4 numeric, predictive attributes and the class\n",
      "    :Attribute Information:\n",
      "        - sepal length in cm\n",
      "        - sepal width in cm\n",
      "        - petal length in cm\n",
      "        - petal width in cm\n",
      "        - class:\n",
      "                - Iris-Setosa\n",
      "                - Iris-Versicolour\n",
      "                - Iris-Virginica\n",
      "                \n",
      "    :Summary Statistics:\n",
      "\n",
      "    ============== ==== ==== ======= ===== ====================\n",
      "                    Min  Max   Mean    SD   Class Correlation\n",
      "    ============== ==== ==== ======= ===== ====================\n",
      "    sepal length:   4.3  7.9   5.84   0.83    0.7826\n",
      "    sepal width:    2.0  4.4   3.05   0.43   -0.4194\n",
      "    petal length:   1.0  6.9   3.76   1.76    0.9490  (high!)\n",
      "    petal width:    0.1  2.5   1.20   0.76    0.9565  (high!)\n",
      "    ============== ==== ==== ======= ===== ====================\n",
      "\n",
      "    :Missing Attribute Values: None\n",
      "    :Class Distribution: 33.3% for each of 3 classes.\n",
      "    :Creator: R.A. Fisher\n",
      "    :Donor: Michael Marshall (MARSHALL%PLU@io.arc.nasa.gov)\n",
      "    :Date: July, 1988\n",
      "\n",
      "The famous Iris database, first used by Sir R.A. Fisher. The dataset is taken\n",
      "from Fisher's paper. Note that it's the same as in R, but not as in the UCI\n",
      "Machine Learning Repository, which has two wrong data points.\n",
      "\n",
      "This is perhaps the best known database to be found in the\n",
      "pattern recognition literature.  Fisher's paper is a classic in the field and\n",
      "is referenced frequently to this day.  (See Duda & Hart, for example.)  The\n",
      "data set contains 3 classes of 50 instances each, where each class refers to a\n",
      "type of iris plant.  One class is linearly separable from the other 2; the\n",
      "latter are NOT linearly separable from each other.\n",
      "\n",
      ".. topic:: References\n",
      "\n",
      "   - Fisher, R.A. \"The use of multiple measurements in taxonomic problems\"\n",
      "     Annual Eugenics, 7, Part II, 179-188 (1936); also in \"Contributions to\n",
      "     Mathematical Statistics\" (John Wiley, NY, 1950).\n",
      "   - Duda, R.O., & Hart, P.E. (1973) Pattern Classification and Scene Analysis.\n",
      "     (Q327.D83) John Wiley & Sons.  ISBN 0-471-22361-1.  See page 218.\n",
      "   - Dasarathy, B.V. (1980) \"Nosing Around the Neighborhood: A New System\n",
      "     Structure and Classification Rule for Recognition in Partially Exposed\n",
      "     Environments\".  IEEE Transactions on Pattern Analysis and Machine\n",
      "     Intelligence, Vol. PAMI-2, No. 1, 67-71.\n",
      "   - Gates, G.W. (1972) \"The Reduced Nearest Neighbor Rule\".  IEEE Transactions\n",
      "     on Information Theory, May 1972, 431-433.\n",
      "   - See also: 1988 MLC Proceedings, 54-64.  Cheeseman et al\"s AUTOCLASS II\n",
      "     conceptual clustering system finds 3 classes in the data.\n",
      "   - Many, many more ...\n"
     ]
    }
   ],
   "source": [
    "# print(iris_dataset['data'])\n",
    "# 데이터의 값\n",
    "#print(iris_dataset['data'].shape)\n",
    "# 데이터의 값의 형태\n",
    "#print(iris_dataset['feature_names'])\n",
    "#print(iris_dataset['target'])\n",
    "#print(iris_dataset['target_names'])\n",
    "print(iris_dataset['DESCR'])\n",
    "# DESCR : Describe 데이터셋에 대한 설명"
   ]
  },
  {
   "cell_type": "code",
   "execution_count": 17,
   "id": "83fef17d",
   "metadata": {},
   "outputs": [],
   "source": [
    "from sklearn.model_selection import train_test_split\n",
    "# sklearn 의 model selection 에서 train_test_split (데이터를 쪼개는 역할) 을 가져온다\n",
    "# traing 용 데이터, traing 용 결과, Test용 데이터, Test 용 결과."
   ]
  },
  {
   "cell_type": "code",
   "execution_count": 24,
   "id": "92ac07d9",
   "metadata": {},
   "outputs": [],
   "source": [
    "train_input, test_input, train_label, test_label = train_test_split(iris_dataset['data'], iris_dataset['target'], test_size=0.25,random_state=42)\n",
    "#  input 값을 data,  label 값을 target 으로 나눈다.\n",
    "# test_size 를 설정함에 따라 입력한수치의 나머지값을 training , 입력한 수치만큼의 값을 test 값으로 사용한다.\n"
   ]
  },
  {
   "cell_type": "code",
   "execution_count": 28,
   "id": "e191d675",
   "metadata": {},
   "outputs": [
    {
     "name": "stdout",
     "output_type": "stream",
     "text": [
      "(112, 4)\n",
      "(38, 4)\n",
      "(112,)\n",
      "(38,)\n"
     ]
    }
   ],
   "source": [
    "print(train_input.shape)\n",
    "print(test_input.shape)\n",
    "# 75% 인 112개는 학습용 ,25%인 38개는 test용으로 쪼개진것을 확인할수있다.\n",
    "print(train_label.shape)\n",
    "print(test_label.shape)\n",
    "# 값이 하나이기때문에 2번째 차원에는 값이 없는것을 확인할수있다."
   ]
  },
  {
   "cell_type": "code",
   "execution_count": 36,
   "id": "923112ad",
   "metadata": {},
   "outputs": [],
   "source": [
    "from sklearn.neighbors import KNeighborsClassifier\n",
    "# neighbors : 알고리즘이 여러가지 들어가있다., KNeightbors : 최근접 알고리즘 , classfier : 구분기\n",
    "knn = KNeighborsClassifier(n_neighbors=3)\n",
    "# n_neighbors 는 최근접을 할때 점의 갯수이다."
   ]
  },
  {
   "cell_type": "code",
   "execution_count": 37,
   "id": "34815028",
   "metadata": {},
   "outputs": [
    {
     "data": {
      "text/plain": [
       "KNeighborsClassifier(n_neighbors=3)"
      ]
     },
     "execution_count": 37,
     "metadata": {},
     "output_type": "execute_result"
    }
   ],
   "source": [
    "knn.fit(train_input, train_label)\n",
    "#학습을 진행한다."
   ]
  },
  {
   "cell_type": "code",
   "execution_count": 38,
   "id": "ad1edc64",
   "metadata": {},
   "outputs": [],
   "source": [
    "predict_label = knn.predict(test_input)\n",
    "#테스트 예측값을 변수값에 입력한다."
   ]
  },
  {
   "cell_type": "code",
   "execution_count": 39,
   "id": "8fcd72e9",
   "metadata": {},
   "outputs": [
    {
     "name": "stdout",
     "output_type": "stream",
     "text": [
      "[1 0 2 1 1 0 1 2 1 1 2 0 0 0 0 1 2 1 1 2 0 2 0 2 2 2 2 2 0 0 0 0 1 0 0 2 1\n",
      " 0]\n",
      "[1 0 2 1 1 0 1 2 1 1 2 0 0 0 0 1 2 1 1 2 0 2 0 2 2 2 2 2 0 0 0 0 1 0 0 2 1\n",
      " 0]\n"
     ]
    }
   ],
   "source": [
    "print(predict_label)\n",
    "print(test_label)\n",
    "# 두개가 얼마나 일치하는지에 따라 정확도를 측정할수있다."
   ]
  },
  {
   "cell_type": "code",
   "execution_count": 40,
   "id": "18cae527",
   "metadata": {},
   "outputs": [
    {
     "name": "stdout",
     "output_type": "stream",
     "text": [
      "test accuracy: 1.0\n"
     ]
    }
   ],
   "source": [
    "import numpy as np\n",
    "\n",
    "print(f'test accuracy: {np.mean(predict_label == test_label)}')\n",
    "# predict_label 과 test_label 이 일치하는 값들의 평균"
   ]
  },
  {
   "cell_type": "code",
   "execution_count": null,
   "id": "325152db",
   "metadata": {},
   "outputs": [],
   "source": []
  }
 ],
 "metadata": {
  "kernelspec": {
   "display_name": "Python 3 (ipykernel)",
   "language": "python",
   "name": "python3"
  },
  "language_info": {
   "codemirror_mode": {
    "name": "ipython",
    "version": 3
   },
   "file_extension": ".py",
   "mimetype": "text/x-python",
   "name": "python",
   "nbconvert_exporter": "python",
   "pygments_lexer": "ipython3",
   "version": "3.9.7"
  }
 },
 "nbformat": 4,
 "nbformat_minor": 5
}
