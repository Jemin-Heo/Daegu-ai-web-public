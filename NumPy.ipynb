{
 "cells": [
  {
   "cell_type": "markdown",
   "id": "16e9d779",
   "metadata": {},
   "source": [
    "# NumPy\n",
    "\n",
    "Numpy의 소개\n",
    "NumPy(Numerical Python)는 파이썬에서 과학적 계산을 위한 핵심 라이브러리이다. NumPy는 다차원 배열 객체와 배열과 함께 작동하는 도구들을 제공한다. 하지만 NumPy 자체로는 고수준의 데이터 분석 기능을 제공하지 않기 때문에 NumPy 배열과 배열 기반 컴퓨팅의 이해를 통해 pandas와 같은 도구를 좀 더 효율적으로 사용하는 것이 필요하다."
   ]
  },
  {
   "cell_type": "markdown",
   "id": "73060b3c",
   "metadata": {},
   "source": [
    "### ndarray 생성\n",
    "\n",
    "array 함수를 사용하여 배열 생성하기"
   ]
  },
  {
   "cell_type": "code",
   "execution_count": 1,
   "id": "fe4b44d9",
   "metadata": {},
   "outputs": [],
   "source": [
    "import numpy as np"
   ]
  },
  {
   "cell_type": "code",
   "execution_count": 2,
   "id": "6c3e324d",
   "metadata": {},
   "outputs": [],
   "source": [
    "# ndarry 생성\n",
    "arr = np.array([1,2,3,4])"
   ]
  },
  {
   "cell_type": "code",
   "execution_count": 3,
   "id": "b57b5c5b",
   "metadata": {},
   "outputs": [
    {
     "name": "stdout",
     "output_type": "stream",
     "text": [
      "[1 2 3 4]\n"
     ]
    }
   ],
   "source": [
    "print(arr)"
   ]
  },
  {
   "cell_type": "code",
   "execution_count": 4,
   "id": "54633602",
   "metadata": {},
   "outputs": [
    {
     "data": {
      "text/plain": [
       "numpy.ndarray"
      ]
     },
     "execution_count": 4,
     "metadata": {},
     "output_type": "execute_result"
    }
   ],
   "source": [
    "type(arr)"
   ]
  },
  {
   "cell_type": "code",
   "execution_count": 5,
   "id": "1427e116",
   "metadata": {},
   "outputs": [
    {
     "data": {
      "text/plain": [
       "array([[0., 0., 0.],\n",
       "       [0., 0., 0.],\n",
       "       [0., 0., 0.]])"
      ]
     },
     "execution_count": 5,
     "metadata": {},
     "output_type": "execute_result"
    }
   ],
   "source": [
    "np.zeros((3,3))"
   ]
  },
  {
   "cell_type": "code",
   "execution_count": 6,
   "id": "326ce1e1",
   "metadata": {},
   "outputs": [
    {
     "data": {
      "text/plain": [
       "array([[1., 1., 1.],\n",
       "       [1., 1., 1.],\n",
       "       [1., 1., 1.]])"
      ]
     },
     "execution_count": 6,
     "metadata": {},
     "output_type": "execute_result"
    }
   ],
   "source": [
    "np.ones((3,3))"
   ]
  },
  {
   "cell_type": "code",
   "execution_count": 7,
   "id": "f701c5e7",
   "metadata": {},
   "outputs": [
    {
     "data": {
      "text/plain": [
       "array([[6.23042070e-307, 4.67296746e-307, 1.69121096e-306,\n",
       "        1.29061142e-306],\n",
       "       [8.34441742e-308, 1.78022342e-306, 6.23058028e-307,\n",
       "        9.79107872e-307],\n",
       "       [6.89807188e-307, 7.56594375e-307, 6.23060065e-307,\n",
       "        1.78021527e-306],\n",
       "       [8.34454050e-308, 1.11261027e-306, 1.15706896e-306,\n",
       "        1.33512173e-306]])"
      ]
     },
     "execution_count": 7,
     "metadata": {},
     "output_type": "execute_result"
    }
   ],
   "source": [
    "np.empty((4,4))"
   ]
  },
  {
   "cell_type": "code",
   "execution_count": 8,
   "id": "2c8d0b4d",
   "metadata": {},
   "outputs": [
    {
     "data": {
      "text/plain": [
       "array([0, 1, 2, 3, 4, 5, 6, 7, 8, 9])"
      ]
     },
     "execution_count": 8,
     "metadata": {},
     "output_type": "execute_result"
    }
   ],
   "source": [
    "np.arange(10)  #[0,1,2,3,4,5,6,7,8,9]"
   ]
  },
  {
   "cell_type": "markdown",
   "id": "d7adb5c0",
   "metadata": {},
   "source": [
    "### ndarray 배열의 모양, 차수, 데이터 타입 확인하기"
   ]
  },
  {
   "cell_type": "code",
   "execution_count": 9,
   "id": "36b2accb",
   "metadata": {},
   "outputs": [],
   "source": [
    "arr = np.array([[1,2,3],[4,5,6]])"
   ]
  },
  {
   "cell_type": "code",
   "execution_count": 10,
   "id": "a3914c59",
   "metadata": {},
   "outputs": [
    {
     "name": "stdout",
     "output_type": "stream",
     "text": [
      "[[1 2 3]\n",
      " [4 5 6]]\n"
     ]
    }
   ],
   "source": [
    "print(arr)"
   ]
  },
  {
   "cell_type": "code",
   "execution_count": 11,
   "id": "bac286e0",
   "metadata": {},
   "outputs": [
    {
     "data": {
      "text/plain": [
       "(2, 3)"
      ]
     },
     "execution_count": 11,
     "metadata": {},
     "output_type": "execute_result"
    }
   ],
   "source": [
    "arr.shape"
   ]
  },
  {
   "cell_type": "code",
   "execution_count": 12,
   "id": "c8a54477",
   "metadata": {},
   "outputs": [
    {
     "data": {
      "text/plain": [
       "2"
      ]
     },
     "execution_count": 12,
     "metadata": {},
     "output_type": "execute_result"
    }
   ],
   "source": [
    "arr.ndim"
   ]
  },
  {
   "cell_type": "code",
   "execution_count": 13,
   "id": "2e2f0e6f",
   "metadata": {},
   "outputs": [
    {
     "data": {
      "text/plain": [
       "dtype('int32')"
      ]
     },
     "execution_count": 13,
     "metadata": {},
     "output_type": "execute_result"
    }
   ],
   "source": [
    "arr.dtype"
   ]
  },
  {
   "cell_type": "code",
   "execution_count": 14,
   "id": "0818445a",
   "metadata": {},
   "outputs": [],
   "source": [
    "arr_float = arr.astype(np.float64)"
   ]
  },
  {
   "cell_type": "code",
   "execution_count": 15,
   "id": "57ddeb02",
   "metadata": {},
   "outputs": [
    {
     "name": "stdout",
     "output_type": "stream",
     "text": [
      "[[1. 2. 3.]\n",
      " [4. 5. 6.]]\n"
     ]
    }
   ],
   "source": [
    "print(arr_float)"
   ]
  },
  {
   "cell_type": "code",
   "execution_count": 16,
   "id": "de04265f",
   "metadata": {},
   "outputs": [
    {
     "data": {
      "text/plain": [
       "dtype('float64')"
      ]
     },
     "execution_count": 16,
     "metadata": {},
     "output_type": "execute_result"
    }
   ],
   "source": [
    "arr_float.dtype"
   ]
  },
  {
   "cell_type": "code",
   "execution_count": 17,
   "id": "6223c244",
   "metadata": {},
   "outputs": [
    {
     "data": {
      "text/plain": [
       "dtype('int32')"
      ]
     },
     "execution_count": 17,
     "metadata": {},
     "output_type": "execute_result"
    }
   ],
   "source": [
    "arr.dtype"
   ]
  },
  {
   "cell_type": "code",
   "execution_count": 19,
   "id": "2b4c5273",
   "metadata": {},
   "outputs": [
    {
     "name": "stdout",
     "output_type": "stream",
     "text": [
      "[[ 5 12]\n",
      " [21 32]]\n"
     ]
    }
   ],
   "source": [
    "arr1 = np.array([[1,2],[3,4]])\n",
    "arr2 = np.array([[5,6],[7,8]])\n",
    "\n",
    "# arr3 = arr1 + arr2\n",
    "#arr3 = np.add(arr1,arr2) #위와 결과가 같다.\n",
    "arr3 = arr1 * arr2\n",
    "#arr3 = np.multiply(arr1,arr2) 위와 결과가 같다\n",
    "print(arr3) "
   ]
  },
  {
   "cell_type": "markdown",
   "id": "b768a30b",
   "metadata": {},
   "source": [
    "Numpy 배열의 연산은 연산자 (+,-,*,/)나 함수(add, subtract, multiply, divide)로 가능하다."
   ]
  },
  {
   "cell_type": "markdown",
   "id": "8e45d4fb",
   "metadata": {},
   "source": [
    "### ndarray 배열 슬라이싱 하기\n",
    "\n",
    "\n",
    "\n",
    "ndarray 배열 슬라이싱 하기"
   ]
  },
  {
   "cell_type": "code",
   "execution_count": 20,
   "id": "d43b4639",
   "metadata": {},
   "outputs": [],
   "source": [
    "# 배열 슬라이싱\n",
    "arr = np.array([[1,2,3],[4,5,6],[7,8,9]])"
   ]
  },
  {
   "cell_type": "code",
   "execution_count": 21,
   "id": "61c76a37",
   "metadata": {},
   "outputs": [
    {
     "name": "stdout",
     "output_type": "stream",
     "text": [
      "[[2 3]\n",
      " [5 6]]\n"
     ]
    }
   ],
   "source": [
    "arr_1 = arr[:2,1:3]\n",
    "print(arr_1)"
   ]
  },
  {
   "cell_type": "code",
   "execution_count": 22,
   "id": "17a69740",
   "metadata": {},
   "outputs": [
    {
     "data": {
      "text/plain": [
       "(3, 3)"
      ]
     },
     "execution_count": 22,
     "metadata": {},
     "output_type": "execute_result"
    }
   ],
   "source": [
    "arr.shape"
   ]
  },
  {
   "cell_type": "code",
   "execution_count": 23,
   "id": "07be11f3",
   "metadata": {},
   "outputs": [
    {
     "name": "stdout",
     "output_type": "stream",
     "text": [
      "[1 4 7]\n"
     ]
    }
   ],
   "source": [
    "arr_int = np.arange(10)\n",
    "print(arr_int[1:8:3])\n",
    "# 필요한 부분만 잘라올때 편하게 사용할수있다."
   ]
  },
  {
   "cell_type": "code",
   "execution_count": 24,
   "id": "0d838a5d",
   "metadata": {},
   "outputs": [
    {
     "name": "stdout",
     "output_type": "stream",
     "text": [
      "3\n"
     ]
    }
   ],
   "source": [
    "print(arr[0,2])"
   ]
  },
  {
   "cell_type": "code",
   "execution_count": 33,
   "id": "c6bc9c2f",
   "metadata": {},
   "outputs": [],
   "source": [
    "arr = np.array([[1,2,3],[4,5,6]])"
   ]
  },
  {
   "cell_type": "code",
   "execution_count": 34,
   "id": "e275a3f1",
   "metadata": {},
   "outputs": [
    {
     "name": "stdout",
     "output_type": "stream",
     "text": [
      "[[False False False]\n",
      " [ True  True  True]]\n"
     ]
    }
   ],
   "source": [
    "idx = arr >3\n",
    "print(idx)"
   ]
  },
  {
   "cell_type": "code",
   "execution_count": 36,
   "id": "9aac6cd5",
   "metadata": {},
   "outputs": [
    {
     "name": "stdout",
     "output_type": "stream",
     "text": [
      "[4 5 6]\n"
     ]
    }
   ],
   "source": [
    "print(arr[idx])\n",
    "#배열에서 참인 값만 출력한다."
   ]
  },
  {
   "cell_type": "code",
   "execution_count": 39,
   "id": "daa27be8",
   "metadata": {},
   "outputs": [],
   "source": [
    "redwine = np.loadtxt(fname='samples/winequality-red.csv',\n",
    "                     delimiter=';',\n",
    "                     skiprows=1)\n",
    "# csv파일에서 불러오되 구분은 ; 으로 하고 1번째줄은 스킵을한다."
   ]
  },
  {
   "cell_type": "code",
   "execution_count": 40,
   "id": "31a6534d",
   "metadata": {},
   "outputs": [
    {
     "name": "stdout",
     "output_type": "stream",
     "text": [
      "[[ 7.4    0.7    0.    ...  0.56   9.4    5.   ]\n",
      " [ 7.8    0.88   0.    ...  0.68   9.8    5.   ]\n",
      " [ 7.8    0.76   0.04  ...  0.65   9.8    5.   ]\n",
      " ...\n",
      " [ 6.3    0.51   0.13  ...  0.75  11.     6.   ]\n",
      " [ 5.9    0.645  0.12  ...  0.71  10.2    5.   ]\n",
      " [ 6.     0.31   0.47  ...  0.66  11.     6.   ]]\n"
     ]
    }
   ],
   "source": [
    "print(redwine)"
   ]
  },
  {
   "cell_type": "code",
   "execution_count": 41,
   "id": "e53f87cb",
   "metadata": {},
   "outputs": [
    {
     "data": {
      "text/plain": [
       "(1599, 12)"
      ]
     },
     "execution_count": 41,
     "metadata": {},
     "output_type": "execute_result"
    }
   ],
   "source": [
    "redwine.shape"
   ]
  },
  {
   "cell_type": "code",
   "execution_count": 42,
   "id": "7a9590f7",
   "metadata": {},
   "outputs": [
    {
     "data": {
      "text/plain": [
       "numpy.ndarray"
      ]
     },
     "execution_count": 42,
     "metadata": {},
     "output_type": "execute_result"
    }
   ],
   "source": [
    "type(redwine)"
   ]
  },
  {
   "cell_type": "code",
   "execution_count": 43,
   "id": "0ac484cf",
   "metadata": {},
   "outputs": [
    {
     "name": "stdout",
     "output_type": "stream",
     "text": [
      "152084.78194\n"
     ]
    }
   ],
   "source": [
    "print(redwine.sum())"
   ]
  },
  {
   "cell_type": "code",
   "execution_count": 44,
   "id": "32009249",
   "metadata": {},
   "outputs": [
    {
     "name": "stdout",
     "output_type": "stream",
     "text": [
      "7.926036165311652\n"
     ]
    }
   ],
   "source": [
    "print(redwine.mean())"
   ]
  },
  {
   "cell_type": "code",
   "execution_count": 45,
   "id": "e0bbb514",
   "metadata": {},
   "outputs": [
    {
     "name": "stdout",
     "output_type": "stream",
     "text": [
      "[ 8.31963727  0.52782051  0.27097561  2.5388055   0.08746654 15.87492183\n",
      " 46.46779237  0.99674668  3.3111132   0.65814884 10.42298311  5.63602251]\n"
     ]
    }
   ],
   "source": [
    "print(redwine.mean(axis=0))"
   ]
  },
  {
   "cell_type": "code",
   "execution_count": 47,
   "id": "169bcb22",
   "metadata": {},
   "outputs": [
    {
     "name": "stdout",
     "output_type": "stream",
     "text": [
      "8.31963727329581\n"
     ]
    }
   ],
   "source": [
    "print(redwine[:,0].mean())"
   ]
  },
  {
   "cell_type": "code",
   "execution_count": null,
   "id": "afcc838e",
   "metadata": {},
   "outputs": [],
   "source": []
  }
 ],
 "metadata": {
  "kernelspec": {
   "display_name": "Python 3 (ipykernel)",
   "language": "python",
   "name": "python3"
  },
  "language_info": {
   "codemirror_mode": {
    "name": "ipython",
    "version": 3
   },
   "file_extension": ".py",
   "mimetype": "text/x-python",
   "name": "python",
   "nbconvert_exporter": "python",
   "pygments_lexer": "ipython3",
   "version": "3.9.7"
  }
 },
 "nbformat": 4,
 "nbformat_minor": 5
}
